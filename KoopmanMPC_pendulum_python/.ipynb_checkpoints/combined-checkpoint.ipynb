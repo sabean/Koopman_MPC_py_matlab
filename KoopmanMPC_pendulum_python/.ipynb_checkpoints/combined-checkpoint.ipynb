{
 "cells": [
  {
   "cell_type": "code",
   "execution_count": 1,
   "id": "350e92fa",
   "metadata": {},
   "outputs": [
    {
     "name": "stdout",
     "output_type": "stream",
     "text": [
      "cvxpy version: 1.1.13\n"
     ]
    }
   ],
   "source": [
    "import matplotlib.pyplot as plt\n",
    "import numpy as np\n",
    "import math\n",
    "import time\n",
    "import cvxpy\n",
    "\n",
    "print(\"cvxpy version:\", cvxpy.__version__)"
   ]
  },
  {
   "cell_type": "code",
   "execution_count": 15,
   "id": "4890a02a",
   "metadata": {},
   "outputs": [],
   "source": [
    "# Contants related to the pendulum\n",
    "L = 2.0  # length of bar\n",
    "M = 1.0  # [kg]\n",
    "m = 0.3  # [kg]\n",
    "g = 9.8  # [m/s^2]\n",
    "\n",
    "Q = np.diag([0.0, 1.0, 1.0, 0.0])\n",
    "R = np.diag([0.01])\n",
    "\n",
    "# Constants related to MPC\n",
    "N_STATE = 4   # number of state\n",
    "N_INPUTS = 1   # number of input\n",
    "\n",
    "HORIZON = 5  # Horizon length\n",
    "maxT = 5\n",
    "DT = 0.2  # time tick\n",
    "n_eval = 100\n",
    "\n",
    "# Initial state\n",
    "x0 = np.array([\n",
    "        [0.0],\n",
    "        [0.0],\n",
    "        [0.3],\n",
    "        [0.0]\n",
    "    ])\n",
    "x = np.copy(x0)\n",
    "\n",
    "# Simulation\n",
    "t_s = np.arange(0, maxT+DT, DT)\n",
    "\n",
    "Y = np.zeros((len(t_s), len(x0)));\n",
    "u_h = np.zeros((HORIZON,1));\n",
    "u_s = np.zeros((len(t_s)-1,1));\n",
    "e_s = np.zeros((len(t_s)-1,1));"
   ]
  },
  {
   "cell_type": "code",
   "execution_count": 13,
   "id": "2eb8a8cf",
   "metadata": {},
   "outputs": [],
   "source": [
    "def flatten_array(val):\n",
    "    return np.array(val).flatten()"
   ]
  },
  {
   "cell_type": "code",
   "execution_count": null,
   "id": "e42d7b0a",
   "metadata": {},
   "outputs": [],
   "source": [
    "def mpc_control(x0):\n",
    "\n",
    "    x = cvxpy.Variable((N_STATE, HORIZON + 1))\n",
    "    u = cvxpy.Variable((N_INPUTS, HORIZON))\n",
    "    print(u.value)\n",
    "    A, B = get_model_matrix()\n",
    "    \n",
    "    cost = 0.0\n",
    "    constr = []\n",
    "    for t in range(HORIZON):\n",
    "        cost += cvxpy.quad_form(x[:, t + 1], Q)\n",
    "        cost += cvxpy.quad_form(u[:, t], R)\n",
    "        constr += [x[:, t + 1] == A @ x[:, t] + B @ u[:, t]]\n",
    "\n",
    "    constr += [x[:, 0] == x0[:, 0]]\n",
    "    prob = cvxpy.Problem(cvxpy.Minimize(cost), constr)\n",
    "\n",
    "    start = time.time()\n",
    "    prob.solve(verbose=False)\n",
    "    elapsed_time = time.time() - start\n",
    "    print(\"calc time:{0} [sec]\".format(elapsed_time))\n",
    "\n",
    "    if prob.status == cvxpy.OPTIMAL:\n",
    "        ox = get_nparray_from_matrix(x.value[0, :])\n",
    "        dx = get_nparray_from_matrix(x.value[1, :])\n",
    "        theta = get_nparray_from_matrix(x.value[2, :])\n",
    "        dtheta = get_nparray_from_matrix(x.value[3, :])\n",
    "\n",
    "        ou = get_nparray_from_matrix(u.value[0, :])\n",
    "    \n",
    "   \n",
    "    return ox, dx, theta, dtheta, ou"
   ]
  },
  {
   "cell_type": "code",
   "execution_count": 16,
   "id": "929ec29a",
   "metadata": {},
   "outputs": [],
   "source": [
    "def run():\n",
    "    for i in range(0, len(t_s)-1):\n",
    "        Y[i, :] = flatten_array(x0)\n",
    "        mpc_control(x)\n",
    "\n",
    "        break"
   ]
  },
  {
   "cell_type": "code",
   "execution_count": 17,
   "id": "f18c90c9",
   "metadata": {},
   "outputs": [
    {
     "name": "stdout",
     "output_type": "stream",
     "text": [
      "[[0.  0.  0.3 0. ]\n",
      " [0.  0.  0.  0. ]\n",
      " [0.  0.  0.  0. ]\n",
      " [0.  0.  0.  0. ]\n",
      " [0.  0.  0.  0. ]\n",
      " [0.  0.  0.  0. ]\n",
      " [0.  0.  0.  0. ]\n",
      " [0.  0.  0.  0. ]\n",
      " [0.  0.  0.  0. ]\n",
      " [0.  0.  0.  0. ]\n",
      " [0.  0.  0.  0. ]\n",
      " [0.  0.  0.  0. ]\n",
      " [0.  0.  0.  0. ]\n",
      " [0.  0.  0.  0. ]\n",
      " [0.  0.  0.  0. ]\n",
      " [0.  0.  0.  0. ]\n",
      " [0.  0.  0.  0. ]\n",
      " [0.  0.  0.  0. ]\n",
      " [0.  0.  0.  0. ]\n",
      " [0.  0.  0.  0. ]\n",
      " [0.  0.  0.  0. ]\n",
      " [0.  0.  0.  0. ]\n",
      " [0.  0.  0.  0. ]\n",
      " [0.  0.  0.  0. ]\n",
      " [0.  0.  0.  0. ]\n",
      " [0.  0.  0.  0. ]]\n"
     ]
    }
   ],
   "source": [
    "run()"
   ]
  },
  {
   "cell_type": "code",
   "execution_count": 18,
   "id": "196bdabb",
   "metadata": {},
   "outputs": [
    {
     "name": "stdout",
     "output_type": "stream",
     "text": [
      "[[0. 0. 0. 0.]\n",
      " [0. 1. 0. 0.]\n",
      " [0. 0. 1. 0.]\n",
      " [0. 0. 0. 0.]]\n",
      "[[0.01]]\n"
     ]
    }
   ],
   "source": [
    "print(Q)\n",
    "print(R)"
   ]
  },
  {
   "cell_type": "code",
   "execution_count": 98,
   "id": "64bee94e",
   "metadata": {},
   "outputs": [],
   "source": [
    "some =  np.random.rand(2,2)"
   ]
  },
  {
   "cell_type": "code",
   "execution_count": 99,
   "id": "95853eac",
   "metadata": {},
   "outputs": [
    {
     "name": "stdout",
     "output_type": "stream",
     "text": [
      "[[0.84785228 0.5641954 ]\n",
      " [0.30576514 0.55235324]]\n"
     ]
    }
   ],
   "source": [
    "print(some)"
   ]
  },
  {
   "cell_type": "code",
   "execution_count": 100,
   "id": "e3fa9c29",
   "metadata": {},
   "outputs": [],
   "source": [
    "def bdiag(val, num):\n",
    "    m, n = np.shape(val)\n",
    "    ya = np.zeros((m*num, m*num))\n",
    "    for i in range(num):\n",
    "        print(i*(m),((i+1)*m), i*(n),((i+1)*n))\n",
    "        print(ya[i*(m):((i+1)*m), i*(n):((i+1)*n)].shape)\n",
    "        print(val.shape)\n",
    "        ya[i*(m):((i+1)*m), i*(n):((i+1)*n)] = val\n",
    "    return ya"
   ]
  },
  {
   "cell_type": "code",
   "execution_count": 105,
   "id": "3a4d70a4",
   "metadata": {},
   "outputs": [
    {
     "name": "stdout",
     "output_type": "stream",
     "text": [
      "0 2 0 2\n",
      "(2, 2)\n",
      "(2, 2)\n",
      "2 4 2 4\n",
      "(2, 2)\n",
      "(2, 2)\n"
     ]
    }
   ],
   "source": [
    "c = bdiag(some, 2)"
   ]
  },
  {
   "cell_type": "code",
   "execution_count": 106,
   "id": "e4e585ef",
   "metadata": {},
   "outputs": [
    {
     "name": "stdout",
     "output_type": "stream",
     "text": [
      "[[0.84785228 0.5641954  0.         0.        ]\n",
      " [0.30576514 0.55235324 0.         0.        ]\n",
      " [0.         0.         0.84785228 0.5641954 ]\n",
      " [0.         0.         0.30576514 0.55235324]]\n"
     ]
    }
   ],
   "source": [
    "print(c)"
   ]
  },
  {
   "cell_type": "code",
   "execution_count": null,
   "id": "657fd58a",
   "metadata": {},
   "outputs": [],
   "source": []
  }
 ],
 "metadata": {
  "kernelspec": {
   "display_name": "Python 3 (ipykernel)",
   "language": "python",
   "name": "python3"
  },
  "language_info": {
   "codemirror_mode": {
    "name": "ipython",
    "version": 3
   },
   "file_extension": ".py",
   "mimetype": "text/x-python",
   "name": "python",
   "nbconvert_exporter": "python",
   "pygments_lexer": "ipython3",
   "version": "3.9.5"
  }
 },
 "nbformat": 4,
 "nbformat_minor": 5
}
