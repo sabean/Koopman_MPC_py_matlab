{
 "cells": [
  {
   "cell_type": "code",
   "execution_count": 1,
   "metadata": {},
   "outputs": [],
   "source": [
    "import matplotlib.pyplot as plt\n",
    "import numpy as np\n",
    "import pandas as pd\n",
    "import math\n",
    "from scipy.integrate import solve_ivp\n",
    "\n",
    "from datafold.appfold import EDMD\n",
    "from datafold.dynfold import DMDFull\n",
    "from datafold.dynfold.transform import TSCPolynomialFeatures, TSCRadialBasis\n",
    "from datafold.pcfold import GaussianKernel, TSCDataFrame\n",
    "from scipy.integrate import solve_ivp"
   ]
  },
  {
   "cell_type": "code",
   "execution_count": 2,
   "metadata": {},
   "outputs": [],
   "source": [
    "maxT = 5.2\n",
    "n_eval = 100\n",
    "dt = 0.2\n",
    "state = np.array([ 0.0, 0., math.pi/2 - .15, 0. ])\n",
    "target = np.array([ 0.0, 0., math.pi/2, 0. ])\n",
    "t_s = np.arange(0, maxT, dt)"
   ]
  },
  {
   "cell_type": "code",
   "execution_count": null,
   "metadata": {},
   "outputs": [],
   "source": [
    "def dydt(t,y,u):\n",
    "    mc=5\n",
    "    mp=1\n",
    "    l=1.5\n",
    "    g=9.8\n",
    "    \n",
    "    x_ddot = u - mp*l*y[4]*y[4]*np.cos(y[3]) + mp*g*np.cos(y[3])*np.sin(y[3])\n",
    "    x_ddot = x_ddot / (mc+mp-mp*np.sin(y[3])*np.sin(y[3]))\n",
    "\n",
    "    theta_ddot = -g/l * np.cos(y[3]) - 1./l * np.sin(y[3])*x_ddot\n",
    "    \n",
    "    return np.array([y[2], x_ddot, y[4], theta_ddot])"
   ]
  },
  {
   "cell_type": "code",
   "execution_count": null,
   "metadata": {},
   "outputs": [],
   "source": [
    "def return_theta_2_dot(t,y,u,mc=5, mp=1, l=1.5, g=9.8):\n",
    "    num = u*np.cos(x1) - (mc+mp)*g*np.sin(x1) + m*l*np.square(x2)*np.cos(x1)*np.sin(x1)\n",
    "    denum = m*l*np.square(np.cos(x1)) - (mc+mp)*l\n",
    "    return num/denum"
   ]
  },
  {
   "cell_type": "code",
   "execution_count": null,
   "metadata": {},
   "outputs": [],
   "source": [
    "def return_x_2_dot(mc=5, mp=1, l=1.5, g=9.8):\n",
    "    num = u + m*l*np.square(x2)*np.sin(x1) - m*g*np.cos(x1)*np.sin(x1)\n",
    "    denum = M + m*np.square(np.sin(x1))\n",
    "    return num/denum"
   ]
  },
  {
   "cell_type": "code",
   "execution_count": null,
   "metadata": {},
   "outputs": [],
   "source": [
    "def solve_pendulum(tspan, t_data, x0=[]):    \n",
    "    def pend_deriv(t0, x_y, delta=delta, beta=beta, alpha=alpha):\n",
    "        \"\"\"Compute the time-derivative of a pendulum.\"\"\"\n",
    "        x, y = x_y\n",
    "        return [y, -delta*y - x*beta - alpha*(x**3)]\n",
    "\n",
    "    # Solve for the trajectories\n",
    "    x_t = np.asarray([solve_ivp(fun=pend_deriv, t_span=t_data, y0=val, t_eval=tspan) for val in x0])\n",
    "    #data = np.array([x_t[0].y[0, :], x_t[0].y[1, :]])\n",
    "    return x_t"
   ]
  },
  {
   "cell_type": "code",
   "execution_count": null,
   "metadata": {},
   "outputs": [],
   "source": [
    "state[1]"
   ]
  },
  {
   "cell_type": "code",
   "execution_count": 14,
   "metadata": {},
   "outputs": [],
   "source": [
    "def solve_limit_cycle(initial_conditions, t_eval):\n",
    "    def limit_cycle(t, y):\n",
    "        \"\"\"ODE system.\"\"\"\n",
    "        mu = 1\n",
    "        y_dot = np.zeros(2)\n",
    "\n",
    "        factor = mu - y[0] ** 2 - y[1] ** 2\n",
    "\n",
    "        y_dot[0] = -y[1] + y[0] * factor\n",
    "        y_dot[1] = y[0] + y[1] * factor\n",
    "        return y_dot\n",
    "\n",
    "    assert initial_conditions.ndim == 2\n",
    "    assert initial_conditions.shape[1] == 2\n",
    "\n",
    "    time_series_dfs = []\n",
    "\n",
    "    for ic in initial_conditions:\n",
    "        solution = solve_ivp(\n",
    "            limit_cycle, t_span=(t_eval[0], t_eval[-1]), y0=ic, t_eval=t_eval\n",
    "        )\n",
    "\n",
    "        solution = pd.DataFrame(\n",
    "            data=solution[\"y\"].T,\n",
    "            index=solution[\"t\"],\n",
    "            columns=[\"x1\", \"x2\"],\n",
    "        )\n",
    "\n",
    "        time_series_dfs.append(solution)\n",
    "\n",
    "    return TSCDataFrame.from_frame_list(time_series_dfs)"
   ]
  },
  {
   "cell_type": "code",
   "execution_count": 15,
   "metadata": {},
   "outputs": [
    {
     "name": "stdout",
     "output_type": "stream",
     "text": [
      "time delta: 0.019999999999999993\n",
      "#time series: 64\n",
      "#time steps per time series: 21\n",
      "(n_samples, n_features): (1344, 2)\n",
      "time interval (0.0, 0.4)\n",
      "Same time values: True\n",
      "\n",
      "Data snippet:\n"
     ]
    },
    {
     "data": {
      "text/html": [
       "<div>\n",
       "<style scoped>\n",
       "    .dataframe tbody tr th:only-of-type {\n",
       "        vertical-align: middle;\n",
       "    }\n",
       "\n",
       "    .dataframe tbody tr th {\n",
       "        vertical-align: top;\n",
       "    }\n",
       "\n",
       "    .dataframe thead th {\n",
       "        text-align: right;\n",
       "    }\n",
       "</style>\n",
       "<table border=\"1\" class=\"dataframe\">\n",
       "  <thead>\n",
       "    <tr style=\"text-align: right;\">\n",
       "      <th></th>\n",
       "      <th>feature</th>\n",
       "      <th>x1</th>\n",
       "      <th>x2</th>\n",
       "    </tr>\n",
       "    <tr>\n",
       "      <th>ID</th>\n",
       "      <th>time</th>\n",
       "      <th></th>\n",
       "      <th></th>\n",
       "    </tr>\n",
       "  </thead>\n",
       "  <tbody>\n",
       "    <tr>\n",
       "      <th rowspan=\"5\" valign=\"top\">0</th>\n",
       "      <th>0.00</th>\n",
       "      <td>-2.000000</td>\n",
       "      <td>-2.000000</td>\n",
       "    </tr>\n",
       "    <tr>\n",
       "      <th>0.02</th>\n",
       "      <td>-1.735789</td>\n",
       "      <td>-1.806650</td>\n",
       "    </tr>\n",
       "    <tr>\n",
       "      <th>0.04</th>\n",
       "      <td>-1.547156</td>\n",
       "      <td>-1.676108</td>\n",
       "    </tr>\n",
       "    <tr>\n",
       "      <th>0.06</th>\n",
       "      <td>-1.401879</td>\n",
       "      <td>-1.581086</td>\n",
       "    </tr>\n",
       "    <tr>\n",
       "      <th>0.08</th>\n",
       "      <td>-1.286003</td>\n",
       "      <td>-1.510061</td>\n",
       "    </tr>\n",
       "    <tr>\n",
       "      <th>...</th>\n",
       "      <th>...</th>\n",
       "      <td>...</td>\n",
       "      <td>...</td>\n",
       "    </tr>\n",
       "    <tr>\n",
       "      <th rowspan=\"5\" valign=\"top\">63</th>\n",
       "      <th>0.32</th>\n",
       "      <td>0.612206</td>\n",
       "      <td>1.218410</td>\n",
       "    </tr>\n",
       "    <tr>\n",
       "      <th>0.34</th>\n",
       "      <td>0.578201</td>\n",
       "      <td>1.210363</td>\n",
       "    </tr>\n",
       "    <tr>\n",
       "      <th>0.36</th>\n",
       "      <td>0.545490</td>\n",
       "      <td>1.203096</td>\n",
       "    </tr>\n",
       "    <tr>\n",
       "      <th>0.38</th>\n",
       "      <td>0.513883</td>\n",
       "      <td>1.196435</td>\n",
       "    </tr>\n",
       "    <tr>\n",
       "      <th>0.40</th>\n",
       "      <td>0.483307</td>\n",
       "      <td>1.190350</td>\n",
       "    </tr>\n",
       "  </tbody>\n",
       "</table>\n",
       "<p>1344 rows × 2 columns</p>\n",
       "</div>"
      ],
      "text/plain": [
       "feature        x1        x2\n",
       "ID time                    \n",
       "0  0.00 -2.000000 -2.000000\n",
       "   0.02 -1.735789 -1.806650\n",
       "   0.04 -1.547156 -1.676108\n",
       "   0.06 -1.401879 -1.581086\n",
       "   0.08 -1.286003 -1.510061\n",
       "...           ...       ...\n",
       "63 0.32  0.612206  1.218410\n",
       "   0.34  0.578201  1.210363\n",
       "   0.36  0.545490  1.203096\n",
       "   0.38  0.513883  1.196435\n",
       "   0.40  0.483307  1.190350\n",
       "\n",
       "[1344 rows x 2 columns]"
      ]
     },
     "execution_count": 15,
     "metadata": {},
     "output_type": "execute_result"
    }
   ],
   "source": [
    "nr_time_steps = 30\n",
    "t_eval = np.linspace(0, 0.4, 21)\n",
    "\n",
    "initial_conditions = np.array(\n",
    "    np.meshgrid(np.linspace(-2, 2, 8), np.linspace(-2, 2, 8))\n",
    ").T.reshape(-1, 2)\n",
    "\n",
    "tsc_data = solve_limit_cycle(initial_conditions, t_eval)\n",
    "\n",
    "print(f\"time delta: {tsc_data.delta_time}\")\n",
    "print(f\"#time series: {tsc_data.n_timeseries}\")\n",
    "print(f\"#time steps per time series: {tsc_data.n_timesteps}\")\n",
    "print(f\"(n_samples, n_features): {tsc_data.shape}\")\n",
    "print(f\"time interval {tsc_data.time_interval()}\")\n",
    "print(f\"Same time values: {tsc_data.is_same_time_values()}\")\n",
    "print(\"\")\n",
    "print(\"Data snippet:\")\n",
    "tsc_data"
   ]
  },
  {
   "cell_type": "code",
   "execution_count": null,
   "metadata": {},
   "outputs": [],
   "source": [
    "import numpy as np\n",
    "from matplotlib import pyplot as plt\n",
    "from scipy.integrate import solve_ivp, odeint\n",
    "\n",
    "g = 9.81\n",
    "l = 0.1"
   ]
  },
  {
   "cell_type": "code",
   "execution_count": null,
   "metadata": {},
   "outputs": [],
   "source": [
    "def f(t, r):\n",
    "    omega = r[0]\n",
    "    theta = r[1]\n",
    "    return np.array([-g / l * np.sin(theta), omega])"
   ]
  },
  {
   "cell_type": "code",
   "execution_count": null,
   "metadata": {},
   "outputs": [],
   "source": [
    "time = np.linspace(0, 10, 1000)\n",
    "init_r = [0, np.radians(179)]\n",
    "\n",
    "results = solve_ivp(f, (0, 10), init_r, method='RK45', t_eval=time, rtol=1e-8)\n",
    "cenas = odeint(f, init_r, time, tfirst=True)\n",
    "\n",
    "\n",
    "fig = plt.figure()\n",
    "ax1 = fig.add_subplot(111)\n",
    "\n",
    "ax1.plot(results.t, results.y[1])\n",
    "ax1.plot(time, cenas[:, 1])\n",
    "\n",
    "plt.show()"
   ]
  },
  {
   "cell_type": "code",
   "execution_count": 10,
   "metadata": {},
   "outputs": [],
   "source": [
    "nr_time_steps = 30\n"
   ]
  },
  {
   "cell_type": "code",
   "execution_count": 11,
   "metadata": {},
   "outputs": [
    {
     "name": "stdout",
     "output_type": "stream",
     "text": [
      "[0.   0.02 0.04 0.06 0.08 0.1  0.12 0.14 0.16 0.18 0.2  0.22 0.24 0.26\n",
      " 0.28 0.3  0.32 0.34 0.36 0.38 0.4 ]\n"
     ]
    }
   ],
   "source": [
    "t_eval = np.linspace(0, 0.4, 21)\n",
    "\n",
    "print(t_eval)"
   ]
  },
  {
   "cell_type": "code",
   "execution_count": 123,
   "metadata": {},
   "outputs": [],
   "source": [
    "initial_conditions = np.array(\n",
    "    np.meshgrid(np.linspace(-2, 2, 8), np.linspace(-2, 2, 8))\n",
    ").T.reshape(-1, 2)"
   ]
  },
  {
   "cell_type": "code",
   "execution_count": 124,
   "metadata": {},
   "outputs": [
    {
     "name": "stdout",
     "output_type": "stream",
     "text": [
      "[[-2.         -2.        ]\n",
      " [-2.         -1.42857143]\n",
      " [-2.         -0.85714286]\n",
      " [-2.         -0.28571429]\n",
      " [-2.          0.28571429]\n",
      " [-2.          0.85714286]\n",
      " [-2.          1.42857143]\n",
      " [-2.          2.        ]\n",
      " [-1.42857143 -2.        ]\n",
      " [-1.42857143 -1.42857143]\n",
      " [-1.42857143 -0.85714286]\n",
      " [-1.42857143 -0.28571429]\n",
      " [-1.42857143  0.28571429]\n",
      " [-1.42857143  0.85714286]\n",
      " [-1.42857143  1.42857143]\n",
      " [-1.42857143  2.        ]\n",
      " [-0.85714286 -2.        ]\n",
      " [-0.85714286 -1.42857143]\n",
      " [-0.85714286 -0.85714286]\n",
      " [-0.85714286 -0.28571429]\n",
      " [-0.85714286  0.28571429]\n",
      " [-0.85714286  0.85714286]\n",
      " [-0.85714286  1.42857143]\n",
      " [-0.85714286  2.        ]\n",
      " [-0.28571429 -2.        ]\n",
      " [-0.28571429 -1.42857143]\n",
      " [-0.28571429 -0.85714286]\n",
      " [-0.28571429 -0.28571429]\n",
      " [-0.28571429  0.28571429]\n",
      " [-0.28571429  0.85714286]\n",
      " [-0.28571429  1.42857143]\n",
      " [-0.28571429  2.        ]\n",
      " [ 0.28571429 -2.        ]\n",
      " [ 0.28571429 -1.42857143]\n",
      " [ 0.28571429 -0.85714286]\n",
      " [ 0.28571429 -0.28571429]\n",
      " [ 0.28571429  0.28571429]\n",
      " [ 0.28571429  0.85714286]\n",
      " [ 0.28571429  1.42857143]\n",
      " [ 0.28571429  2.        ]\n",
      " [ 0.85714286 -2.        ]\n",
      " [ 0.85714286 -1.42857143]\n",
      " [ 0.85714286 -0.85714286]\n",
      " [ 0.85714286 -0.28571429]\n",
      " [ 0.85714286  0.28571429]\n",
      " [ 0.85714286  0.85714286]\n",
      " [ 0.85714286  1.42857143]\n",
      " [ 0.85714286  2.        ]\n",
      " [ 1.42857143 -2.        ]\n",
      " [ 1.42857143 -1.42857143]\n",
      " [ 1.42857143 -0.85714286]\n",
      " [ 1.42857143 -0.28571429]\n",
      " [ 1.42857143  0.28571429]\n",
      " [ 1.42857143  0.85714286]\n",
      " [ 1.42857143  1.42857143]\n",
      " [ 1.42857143  2.        ]\n",
      " [ 2.         -2.        ]\n",
      " [ 2.         -1.42857143]\n",
      " [ 2.         -0.85714286]\n",
      " [ 2.         -0.28571429]\n",
      " [ 2.          0.28571429]\n",
      " [ 2.          0.85714286]\n",
      " [ 2.          1.42857143]\n",
      " [ 2.          2.        ]]\n",
      "2\n",
      "2\n"
     ]
    }
   ],
   "source": [
    "print(initial_conditions)\n",
    "print(initial_conditions.ndim)\n",
    "print(initial_conditions.shape[1])"
   ]
  },
  {
   "cell_type": "code",
   "execution_count": 4,
   "metadata": {},
   "outputs": [
    {
     "name": "stdout",
     "output_type": "stream",
     "text": [
      "(64, 2)\n"
     ]
    }
   ],
   "source": [
    "print(initial_conditions.shape)"
   ]
  },
  {
   "cell_type": "code",
   "execution_count": 132,
   "metadata": {},
   "outputs": [],
   "source": [
    "s = np.random.uniform(-1,1,1)"
   ]
  },
  {
   "cell_type": "code",
   "execution_count": 134,
   "metadata": {},
   "outputs": [
    {
     "data": {
      "text/plain": [
       "0.7011756566515341"
      ]
     },
     "execution_count": 134,
     "metadata": {},
     "output_type": "execute_result"
    }
   ],
   "source": [
    "s[0]"
   ]
  },
  {
   "cell_type": "code",
   "execution_count": null,
   "metadata": {},
   "outputs": [],
   "source": []
  },
  {
   "cell_type": "code",
   "execution_count": 152,
   "metadata": {},
   "outputs": [],
   "source": [
    "def solve_pendulum(initial_conditions, t_eval):\n",
    "    npts, _ = initial_conditions.shape\n",
    "    \n",
    "    u_val = []\n",
    "    \n",
    "    def y_dot(t, y):\n",
    "        g = 9.8 \n",
    "        L = 1.5 # Length of pendulum\n",
    "        m = 1.0 #mass of bob (kg)\n",
    "        M = 5.0  # mass of cart (kg)\n",
    "        d1 = 1.0\n",
    "        d2 = 0.5\n",
    "        \n",
    "        u = np.random.uniform(-4,4,1)\n",
    "        u_val.append(u[0])\n",
    "        x_ddot = u[0] - m*L*y[3]*y[3] * np.cos(y[2] ) + m*g*np.cos(y[2]) *  np.sin(y[2])\n",
    "        x_ddot = x_ddot / ( M+m-m* np.sin(y[2])* np.sin(y[2]) )\n",
    "        theta_ddot = -g/L * np.cos(y[2] ) -  np.sin( y[2]) / L*x_ddot\n",
    "\n",
    "        damping_x =  - d1*y[1]\n",
    "        damping_theta =  - d2*y[3]\n",
    "\n",
    "        return np.array([y[1], x_ddot + damping_x, y[3], theta_ddot + damping_theta])\n",
    "\n",
    "    #assert initial_conditions.ndim == 4\n",
    "    assert initial_conditions.shape[1] == 4\n",
    "\n",
    "    time_series_dfs = []\n",
    "\n",
    "    for ic in initial_conditions:\n",
    "        solution = solve_ivp(\n",
    "            y_dot, t_span=(t_eval[0], t_eval[-1]), y0=ic, t_eval=t_eval\n",
    "        )\n",
    "\n",
    "        solution = pd.DataFrame(\n",
    "            data=solution[\"y\"].T,\n",
    "            index=solution[\"t\"],\n",
    "            columns=[\"x1\", \"x2\", \"x3\", \"x4\"],\n",
    "        )\n",
    "\n",
    "        time_series_dfs.append(solution)\n",
    "\n",
    "    return TSCDataFrame.from_frame_list(time_series_dfs), np.array(u_val)"
   ]
  },
  {
   "cell_type": "code",
   "execution_count": 147,
   "metadata": {},
   "outputs": [],
   "source": [
    "def get_u(t):\n",
    "    return U[t]\n",
    "\n",
    "def y_dot(t, y):\n",
    "    g = 9.8 \n",
    "    L = 1.5 # Length of pendulum\n",
    "\n",
    "    m = 1.0 #mass of bob (kg)\n",
    "    M = 5.0  # mass of cart (kg)\n",
    "\n",
    "    d1 = 1.0\n",
    "    d2 = 0.5\n",
    "\n",
    "\n",
    "    x_ddot = get_u(t) - m*L*y[3]*y[3] * np.cos(y[2] ) + m*g*np.cos(y[2]) *  np.sin(y[2])\n",
    "    x_ddot = x_ddot / ( M+m-m* np.sin(y[2])* np.sin(y[2]) )\n",
    "\n",
    "    theta_ddot = -g/L * np.cos(y[2] ) -  np.sin( y[2]) / L*x_ddot\n",
    "\n",
    "\n",
    "    damping_x =  - d1*y[1]\n",
    "    damping_theta =  - d2*y[3]\n",
    "\n",
    "    return np.array([y[1], x_ddot + damping_x, y[3], theta_ddot + damping_theta])"
   ]
  },
  {
   "cell_type": "code",
   "execution_count": 148,
   "metadata": {},
   "outputs": [],
   "source": [
    "horizon = 10\n",
    "np.random.seed(55)\n",
    "X = np.array(\n",
    "    [np.random.uniform(-2, 2, horizon), np.random.uniform(-2, 2, horizon),  np.random.uniform(-2, 2, horizon),  np.random.uniform(-2, 2, horizon)]\n",
    ").T.reshape(-1, 4)"
   ]
  },
  {
   "cell_type": "code",
   "execution_count": 149,
   "metadata": {},
   "outputs": [],
   "source": [
    "U = np.random.uniform(-4,4,horizon)\n",
    "maxT = 5\n",
    "DT = 0.2 \n",
    "t_s = np.arange(0, maxT+DT, DT)"
   ]
  },
  {
   "cell_type": "code",
   "execution_count": 153,
   "metadata": {},
   "outputs": [
    {
     "name": "stdout",
     "output_type": "stream",
     "text": [
      "[ 0.89250288 -3.6874939   2.13744723 ...  1.92340727  0.24743646\n",
      " -3.26866514]\n",
      "time delta: 0.19999999999999987\n",
      "#time series: 30\n",
      "#time steps per time series: 26\n",
      "(n_samples, n_features): (780, 4)\n",
      "time interval (0.0, 5.0)\n",
      "Same time values: True\n",
      "\n",
      "Data snippet:\n"
     ]
    },
    {
     "data": {
      "text/html": [
       "<div>\n",
       "<style scoped>\n",
       "    .dataframe tbody tr th:only-of-type {\n",
       "        vertical-align: middle;\n",
       "    }\n",
       "\n",
       "    .dataframe tbody tr th {\n",
       "        vertical-align: top;\n",
       "    }\n",
       "\n",
       "    .dataframe thead th {\n",
       "        text-align: right;\n",
       "    }\n",
       "</style>\n",
       "<table border=\"1\" class=\"dataframe\">\n",
       "  <thead>\n",
       "    <tr style=\"text-align: right;\">\n",
       "      <th></th>\n",
       "      <th>feature</th>\n",
       "      <th>x1</th>\n",
       "      <th>x2</th>\n",
       "      <th>x3</th>\n",
       "      <th>x4</th>\n",
       "    </tr>\n",
       "    <tr>\n",
       "      <th>ID</th>\n",
       "      <th>time</th>\n",
       "      <th></th>\n",
       "      <th></th>\n",
       "      <th></th>\n",
       "      <th></th>\n",
       "    </tr>\n",
       "  </thead>\n",
       "  <tbody>\n",
       "    <tr>\n",
       "      <th rowspan=\"5\" valign=\"top\">0</th>\n",
       "      <th>0.0</th>\n",
       "      <td>-1.627567</td>\n",
       "      <td>0.909089</td>\n",
       "      <td>1.324397</td>\n",
       "      <td>0.379438</td>\n",
       "    </tr>\n",
       "    <tr>\n",
       "      <th>0.2</th>\n",
       "      <td>-1.449556</td>\n",
       "      <td>0.871873</td>\n",
       "      <td>1.359194</td>\n",
       "      <td>-0.017535</td>\n",
       "    </tr>\n",
       "    <tr>\n",
       "      <th>0.4</th>\n",
       "      <td>-1.281760</td>\n",
       "      <td>0.800763</td>\n",
       "      <td>1.321896</td>\n",
       "      <td>-0.352782</td>\n",
       "    </tr>\n",
       "    <tr>\n",
       "      <th>0.6</th>\n",
       "      <td>-1.124109</td>\n",
       "      <td>0.764825</td>\n",
       "      <td>1.211612</td>\n",
       "      <td>-0.757976</td>\n",
       "    </tr>\n",
       "    <tr>\n",
       "      <th>0.8</th>\n",
       "      <td>-0.966951</td>\n",
       "      <td>0.811325</td>\n",
       "      <td>1.004367</td>\n",
       "      <td>-1.346831</td>\n",
       "    </tr>\n",
       "    <tr>\n",
       "      <th>...</th>\n",
       "      <th>...</th>\n",
       "      <td>...</td>\n",
       "      <td>...</td>\n",
       "      <td>...</td>\n",
       "      <td>...</td>\n",
       "    </tr>\n",
       "    <tr>\n",
       "      <th rowspan=\"5\" valign=\"top\">29</th>\n",
       "      <th>4.2</th>\n",
       "      <td>1.518028</td>\n",
       "      <td>0.299443</td>\n",
       "      <td>-1.697345</td>\n",
       "      <td>1.014632</td>\n",
       "    </tr>\n",
       "    <tr>\n",
       "      <th>4.4</th>\n",
       "      <td>1.574720</td>\n",
       "      <td>0.254221</td>\n",
       "      <td>-1.495279</td>\n",
       "      <td>0.952992</td>\n",
       "    </tr>\n",
       "    <tr>\n",
       "      <th>4.6</th>\n",
       "      <td>1.613061</td>\n",
       "      <td>0.127027</td>\n",
       "      <td>-1.336135</td>\n",
       "      <td>0.605836</td>\n",
       "    </tr>\n",
       "    <tr>\n",
       "      <th>4.8</th>\n",
       "      <td>1.626118</td>\n",
       "      <td>0.013045</td>\n",
       "      <td>-1.260894</td>\n",
       "      <td>0.142524</td>\n",
       "    </tr>\n",
       "    <tr>\n",
       "      <th>5.0</th>\n",
       "      <td>1.617394</td>\n",
       "      <td>-0.102049</td>\n",
       "      <td>-1.279765</td>\n",
       "      <td>-0.323146</td>\n",
       "    </tr>\n",
       "  </tbody>\n",
       "</table>\n",
       "<p>780 rows × 4 columns</p>\n",
       "</div>"
      ],
      "text/plain": [
       "feature        x1        x2        x3        x4\n",
       "ID time                                        \n",
       "0  0.0  -1.627567  0.909089  1.324397  0.379438\n",
       "   0.2  -1.449556  0.871873  1.359194 -0.017535\n",
       "   0.4  -1.281760  0.800763  1.321896 -0.352782\n",
       "   0.6  -1.124109  0.764825  1.211612 -0.757976\n",
       "   0.8  -0.966951  0.811325  1.004367 -1.346831\n",
       "...           ...       ...       ...       ...\n",
       "29 4.2   1.518028  0.299443 -1.697345  1.014632\n",
       "   4.4   1.574720  0.254221 -1.495279  0.952992\n",
       "   4.6   1.613061  0.127027 -1.336135  0.605836\n",
       "   4.8   1.626118  0.013045 -1.260894  0.142524\n",
       "   5.0   1.617394 -0.102049 -1.279765 -0.323146\n",
       "\n",
       "[780 rows x 4 columns]"
      ]
     },
     "execution_count": 153,
     "metadata": {},
     "output_type": "execute_result"
    }
   ],
   "source": [
    "tsc_data, u_calc = solve_pendulum(X, t_s)\n",
    "\n",
    "print(u_calc)\n",
    "print(f\"time delta: {tsc_data.delta_time}\")\n",
    "print(f\"#time series: {tsc_data.n_timeseries}\")\n",
    "print(f\"#time steps per time series: {tsc_data.n_timesteps}\")\n",
    "print(f\"(n_samples, n_features): {tsc_data.shape}\")\n",
    "print(f\"time interval {tsc_data.time_interval()}\")\n",
    "print(f\"Same time values: {tsc_data.is_same_time_values()}\")\n",
    "print(\"\")\n",
    "print(\"Data snippet:\")\n",
    "tsc_data"
   ]
  },
  {
   "cell_type": "code",
   "execution_count": 136,
   "metadata": {},
   "outputs": [],
   "source": [
    "npts, _ = X.shape"
   ]
  },
  {
   "cell_type": "code",
   "execution_count": 138,
   "metadata": {},
   "outputs": [
    {
     "data": {
      "text/plain": [
       "array([0., 0., 0., 0., 0., 0., 0., 0., 0., 0., 0., 0., 0., 0., 0., 0., 0.,\n",
       "       0., 0., 0., 0., 0., 0., 0., 0., 0., 0., 0., 0., 0.])"
      ]
     },
     "execution_count": 138,
     "metadata": {},
     "output_type": "execute_result"
    }
   ],
   "source": [
    "np.zeros(npts)"
   ]
  },
  {
   "cell_type": "code",
   "execution_count": null,
   "metadata": {},
   "outputs": [],
   "source": []
  },
  {
   "cell_type": "code",
   "execution_count": null,
   "metadata": {},
   "outputs": [],
   "source": []
  }
 ],
 "metadata": {
  "kernelspec": {
   "display_name": "Python 3 (ipykernel)",
   "language": "python",
   "name": "python3"
  },
  "language_info": {
   "codemirror_mode": {
    "name": "ipython",
    "version": 3
   },
   "file_extension": ".py",
   "mimetype": "text/x-python",
   "name": "python",
   "nbconvert_exporter": "python",
   "pygments_lexer": "ipython3",
   "version": "3.9.5"
  }
 },
 "nbformat": 4,
 "nbformat_minor": 4
}
