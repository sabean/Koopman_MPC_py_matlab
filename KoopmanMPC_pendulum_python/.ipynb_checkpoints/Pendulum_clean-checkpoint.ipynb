{
 "cells": [
  {
   "cell_type": "code",
   "execution_count": 1,
   "id": "55a4dbb5",
   "metadata": {},
   "outputs": [],
   "source": [
    "import math\n",
    "import numpy as np\n",
    "import pandas as pd\n",
    "import matplotlib.pyplot as plt\n",
    "\n",
    "\n",
    "from datafold.appfold import EDMD\n",
    "from scipy.integrate import solve_ivp\n",
    "from sklearn.pipeline import Pipeline\n",
    "from datafold.dynfold.transform import TSCRadialBasis\n",
    "from datafold.pcfold import GaussianKernel, TSCDataFrame"
   ]
  },
  {
   "cell_type": "markdown",
   "id": "7fd71350",
   "metadata": {},
   "source": [
    "### Dynamics"
   ]
  },
  {
   "cell_type": "code",
   "execution_count": null,
   "id": "8729289a",
   "metadata": {},
   "outputs": [],
   "source": [
    "n_states= 2\n",
    "n_control_units = 1"
   ]
  },
  {
   "cell_type": "code",
   "execution_count": null,
   "id": "07af26d5",
   "metadata": {},
   "outputs": [],
   "source": [
    "def solve_pendulum(initial_conditions, t_eval):\n",
    "    npts, _ = initial_conditions.shape\n",
    "\n",
    "    C = np.array([[1, 0, 0, 0], [0, 0, 1, 0]])\n",
    "    \n",
    "    def y_dot(t, y):\n",
    "        g = 9.8 \n",
    "        L = 1.5 # Length of pendulum\n",
    "        m = 1.0 #mass of bob (kg)\n",
    "        M = 5.0  # mass of cart (kg)\n",
    "        d1 = 1.0\n",
    "        d2 = 0.5\n",
    "        \n",
    "        \n",
    "        u = np.random.uniform(-4,4,1)\n",
    "     \n",
    "        x_ddot = u[0] - m*L*y[3]*y[3] * np.cos(y[2] ) + m*g*np.cos(y[2]) *  np.sin(y[2])\n",
    "        x_ddot = x_ddot / ( M+m-m* np.sin(y[2])* np.sin(y[2]) )\n",
    "        theta_ddot = -g/L * np.cos(y[2] ) -  np.sin( y[2]) / L*x_ddot\n",
    "\n",
    "        damping_x =  - d1*y[1]\n",
    "        damping_theta =  - d2*y[3]\n",
    "        \n",
    "        x_next = [y[1], x_ddot + damping_x, y[3], theta_ddot + damping_theta, u[0]]\n",
    "        #intermidiate_y = C @ x_next\n",
    "        #y_val.append(intermidiate_y)\n",
    "        return np.array(x_next)\n",
    "\n",
    "    #assert initial_conditions.ndim == 4\n",
    "    assert initial_conditions.shape[1] == 5\n",
    "\n",
    "\n",
    "    time_series_dfs = []\n",
    "    ytime_series_dfs = []\n",
    "    utime_series_dfs = []\n",
    "    \n",
    "    for ic in initial_conditions:\n",
    "        solution = solve_ivp(\n",
    "            y_dot, t_span=(t_eval[0], t_eval[-1]), y0=ic, t_eval=t_eval\n",
    "        )\n",
    "\n",
    "        data_u_values = solution[\"y\"][4]\n",
    "        data_x_values = solution[\"y\"][:4]\n",
    "        \n",
    "        intermidiate_res = C@data_x_values\n",
    "        intermidiate_time = solution[\"t\"]\n",
    "        \n",
    "        solution = pd.DataFrame(\n",
    "            data=data_x_values.T,\n",
    "            index=solution[\"t\"],\n",
    "            columns=[\"x1\", \"x2\", \"x3\", \"x4\"],\n",
    "        )\n",
    "        \n",
    "        y_values_df = pd.DataFrame(\n",
    "            data=intermidiate_res.T,\n",
    "            index=intermidiate_time,\n",
    "            columns=[\"y1\", \"y2\"],\n",
    "        )\n",
    "\n",
    "       \n",
    "        u_values_df = pd.DataFrame(\n",
    "            data=data_u_values.T,\n",
    "            index=intermidiate_time,\n",
    "            columns=[\"u1\"],\n",
    "        )\n",
    "\n",
    "        utime_series_dfs.append(u_values_df)\n",
    "        time_series_dfs.append(solution)\n",
    "        ytime_series_dfs.append(y_values_df)\n",
    "\n",
    "\n",
    "    return TSCDataFrame.from_frame_list(time_series_dfs), TSCDataFrame.from_frame_list(ytime_series_dfs), TSCDataFrame.from_frame_list(utime_series_dfs)"
   ]
  },
  {
   "cell_type": "code",
   "execution_count": null,
   "id": "6f485f4e",
   "metadata": {},
   "outputs": [],
   "source": []
  },
  {
   "cell_type": "code",
   "execution_count": null,
   "id": "f60b3b20",
   "metadata": {},
   "outputs": [],
   "source": []
  },
  {
   "cell_type": "code",
   "execution_count": null,
   "id": "9b52613a",
   "metadata": {},
   "outputs": [],
   "source": []
  },
  {
   "cell_type": "code",
   "execution_count": null,
   "id": "881a70a2",
   "metadata": {},
   "outputs": [],
   "source": []
  },
  {
   "cell_type": "code",
   "execution_count": null,
   "id": "3b8948be",
   "metadata": {},
   "outputs": [],
   "source": []
  },
  {
   "cell_type": "code",
   "execution_count": null,
   "id": "5da0bc67",
   "metadata": {},
   "outputs": [],
   "source": []
  }
 ],
 "metadata": {
  "kernelspec": {
   "display_name": "Python 3 (ipykernel)",
   "language": "python",
   "name": "python3"
  },
  "language_info": {
   "codemirror_mode": {
    "name": "ipython",
    "version": 3
   },
   "file_extension": ".py",
   "mimetype": "text/x-python",
   "name": "python",
   "nbconvert_exporter": "python",
   "pygments_lexer": "ipython3",
   "version": "3.9.5"
  }
 },
 "nbformat": 4,
 "nbformat_minor": 5
}
