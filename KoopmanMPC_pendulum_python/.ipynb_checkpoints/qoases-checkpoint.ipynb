{
 "cells": [
  {
   "cell_type": "code",
   "execution_count": 4,
   "id": "af628da3",
   "metadata": {},
   "outputs": [],
   "source": [
    "import numpy as np\n",
    "from scipy import sparse\n",
    "from numpy.linalg import matrix_power"
   ]
  },
  {
   "cell_type": "code",
   "execution_count": 117,
   "id": "c881cc8c",
   "metadata": {},
   "outputs": [],
   "source": [
    "class KMPC:\n",
    "    ''' \n",
    "        Initialize the parameters for the Koopman MPC, with koopman system.\n",
    "    '''\n",
    "    def __init__(self, ksys):\n",
    "        # take some properties/methods from the other class\n",
    "        self.model = ksys.model\n",
    "        self.params = ksys.params\n",
    "        self.lift = ksys.lift\n",
    "        self.basis = ksys.basis\n",
    "        \n",
    "        # define default values of properties\n",
    "        self.horizon = 0  #floor( 1 / obj.params.Ts );\n",
    "        self.input_bounds = [] # [min,max] can be 1x2 or mx2\n",
    "        self.input_slopeConst = [];\n",
    "        self.input_smoothConst = [];\n",
    "        self.state_bounds = [] # [min,max] can be 1x2 or nx2\n",
    "        self.cost_running = 0.1\n",
    "        self.cost_terminal = 100\n",
    "        self.cost_input = 0.01\n",
    "        self.projmtx = self.model.C\n",
    "        self.cost = [];\n",
    "        self.constraints = [];\n",
    "    \n",
    "    def get_costMatrices(self):\n",
    "        '''\n",
    "            get_costMatrices: Constructs cost the matrices for the mpc optimization problem.\n",
    "            self.cost has fields H, G, D, A, B, C, Q, R\n",
    "            \n",
    "            define cost function matrices\n",
    "            Cost function is defined as U'HU + ( z0'G + Yr'D )U\n",
    "        '''\n",
    "        model = self.model\n",
    "        \n",
    "        # calculation for matrix A ---------------------------------\n",
    "        N = np.size(self.model.A, 0)\n",
    "        A = np.zeros((N*(self.horizon+1), N))\n",
    "        for i in range(0, self.horizon+1):\n",
    "            A[(N*i):N*(i+1) , : ] = matrix_power(model.A,i)\n",
    "            \n",
    "        # calculation for matrix B ---------------------------------\n",
    "        Bheight = N*(self.horizon+1);\n",
    "        Bcolwidth = np.size(self.B,1)\n",
    "\n",
    "        Bcol = np.zeros((Bheight, Bcolwidth))\n",
    "\n",
    "        for i in range(1, self.horizon+1):\n",
    "            Bcol[(N*i) : N*(i+1) , :] = matrix_power(Xmodel,(i-1))@self.B\n",
    "        lshift = sparse.spdiags(np.ones((N*self.horizon,1)) , -N , N*(self.horizon+1) , N*(self.horizon+1))\n",
    "   \n",
    "\n",
    "        Bwidth = np.size(self.B,1)*self.horizon\n",
    "        Bblkwidth = self.horizon \n",
    "        B = np.zeros((Bheight , Bwidth))\n",
    "        B[: , :Bcolwidth] = Bcol\n",
    "        for i in range(2, Bblkwidth+1):\n",
    "            B[:,(i-1)*Bcolwidth:(i)*Bcolwidth] = lshift@B[:,(i-2)*Bcolwidth:(i-1)*Bcolwidth]\n",
    "            \n",
    "        # calculation for matrix C ---------------------------------------------------------\n",
    "        C = np.kron(np.eye(self.horizon+1) , self.projmtx)\n",
    "        nproj = np.size(self.projmtx , 1)\n",
    "        \n",
    "        # Q: Error magnitude penalty ------------------------------------------------------\n",
    "        Q = np.kron(np.eye(hor+1) , np.eye(nproj) * self.cost_running) #error magnitude penalty (running cost) (default 0.1)\n",
    "        endr, endc = Q.shape\n",
    "        Q[endr-nproj: , endc-nproj:] = np.eye(nproj) * self.cost_terminal # (terminal cost) (default 100)\n",
    "        \n",
    "        \n",
    "        # R: Input magnitude penalty -------------------------------------------------------\n",
    "        R = np.kron(np.eye(self.horizon) , np.eye(model.params.m) * np.cost_input)  # input magnitude penalty\n",
    "        \n",
    "        \n",
    "        # H, G and D\n",
    "        H = B.T @ C.T @ Q @ C @ B + R\n",
    "        G = 2 @ A.T @ C.T @ Q @ C @ B\n",
    "        D = -2 @ Q @ C @ B\n",
    "        \n",
    "        # Setting outputs\n",
    "        \n",
    "        # constructed matrices\n",
    "        \n",
    "        self.cost.H = H\n",
    "        self.cost.G = G\n",
    "        self.cost.D = D\n",
    "        \n",
    "        \n",
    "        # component matrices\n",
    "        \n",
    "        self.cost.A = A\n",
    "        self.cost.B = B\n",
    "        self.cost.C = C\n",
    "        self.cost.Q = Q\n",
    "        self.cost.R = R\n",
    "        \n",
    "    #---------------------------------------------------------------\n",
    "    def get_constraintMatrices(self):\n",
    "        '''\n",
    "        F is input constraints\n",
    "        E is the state constraints\n",
    "        m no of inputs, n no of states (1,2)\n",
    "        '''\n",
    "        Np = self.horizon\n",
    "        params = self.params\n",
    "        m = params.m\n",
    "        n = params.n\n",
    "        cost = self.cost\n",
    "        F=[]\n",
    "        E=[]\n",
    "        c=[]\n",
    "        \n",
    "        # input_bounds\n",
    "        if(self.input_bounds):\n",
    "            # define the number of the input bound constraints\n",
    "            num = 2*params.m\n",
    "            \n",
    "            # F: input bounds\n",
    "            Fbounds_i = np.vstack((-np.eye(m), np.eye(m))) # diagonal element of F, for bounded inputs\n",
    "            Fbounds = np.zeros((num*(Np+1) , np.size(cost.B,1))) # no constraints, all zeros\n",
    "            Fbounds[:num*Np , :Np*m] = np.kron(np.eye(Np), Fbounds_i)  \n",
    "            F.append(Fbounds)\n",
    "            \n",
    "            # E: input bounds\n",
    "            Ebounds = np.zeros((num*(Np+1) , np.size(cost.B,0))) # no constraints, all zeros\n",
    "            E.append(Ebounds)\n",
    "            \n",
    "            # c: input bounds\n",
    "            cbounds_i = np.vstack((self.input_bounds[:,0], self.input_bounds[:,1]))\n",
    "            cbounds = np.zeros((num*(Np+1), 1))\n",
    "            cbounds[:num*Np] = np.kron(np.ones((Np,1)), cbounds_i) \n",
    "            c.append(cbounds)\n",
    "            \n",
    "        # input_slopeConst\n",
    "        if(self.input_slopeConst):\n",
    "            # F: input_slopeConst\n",
    "            Fslope_i = np.eye(m)\n",
    "            Fslope_neg = np.hstack((np.kron(np.eye(Np-1) , -Fslope_i) , np.zeros((m*(Np-1) , m))))\n",
    "            Fslope_pos = np.hstack((np.zeros((m*(Np-1), m)) , np.kron(np.eye(Np-1) , Fslope_i)))\n",
    "            Fslope_top = Fslope_neg + Fslope_pos\n",
    "            Fslope = np.vstack((Fslope_top,-Fslope_top))\n",
    "            F.append(Fslope)\n",
    "            \n",
    "            # E: input_slopeConst (just zeros)\n",
    "            E = np.zeros((2*m*(Np-1), np.size(cost.B,0))) \n",
    "        \n",
    "            # c: input_slopeConst\n",
    "            cslope_top = input_slopeConst*np.ones(m*(Np-1),1)\n",
    "            cslope = np.vstack((cslope_top,cslope_top))\n",
    "            c.append(cslope)\n",
    "            \n",
    "\n",
    "        # state_bounds\n",
    "        if(state_bounds):\n",
    "            # define the number of the state bound constraints\n",
    "            num = 2*params.n\n",
    "            \n",
    "            # E: state_bounds\n",
    "            Esbounds = np.zeros((num*(Np+1) , np.size(cost.A,0)));  # no constraints, all zeros\n",
    "            Esbounds[:num*(Np+1), :(Np+1)*n] = np.kron(np.eye(Np+1), Esbounds_i)    # fill in nonzeros\n",
    "            E.append(Esbounds)\n",
    "            \n",
    "            # F: state_bounds (all zeros)\n",
    "            Fsbounds = np.zeros((np.size(Esbounds, 0) , np.size(cost.B, 1)))\n",
    "            F.append(Fsbounds)\n",
    "            \n",
    "            # c: state_bounds\n",
    "            csbounds_i =  np.vstack((-self.state_bounds[:,0], self.state_bounds[:,1])) # [-ymin ; ymax ]\n",
    "            csbounds = np.kron(np.ones((Np+1, 1)), csbounds_i)     # fill in nonzeros\n",
    "            c.append(csbounds)\n",
    "        \n",
    "        self.constraints.F = np.vstack(F)\n",
    "        self.constraints.E = np.vstack(E)\n",
    "        self.constraints.c = np.vstack(c)\n",
    "        self.constraints.L = F + E @ cost.B\n",
    "        self.constraints.M = E @ cost.A"
   ]
  },
  {
   "cell_type": "code",
   "execution_count": null,
   "id": "438f7387",
   "metadata": {},
   "outputs": [],
   "source": []
  },
  {
   "cell_type": "code",
   "execution_count": null,
   "id": "cd7a70ee",
   "metadata": {},
   "outputs": [],
   "source": []
  },
  {
   "cell_type": "code",
   "execution_count": null,
   "id": "4266c454",
   "metadata": {},
   "outputs": [],
   "source": []
  },
  {
   "cell_type": "code",
   "execution_count": 5,
   "id": "af0c32a5",
   "metadata": {},
   "outputs": [],
   "source": [
    "A = np.arange(4).reshape(2,2)\n",
    "N = np.size(A,1)\n",
    "hor = 3\n",
    "B = np.arange(4).reshape(2,2)\n",
    "X = np.zeros((N*(hor+1), N))"
   ]
  },
  {
   "cell_type": "code",
   "execution_count": 94,
   "id": "724cc9cc",
   "metadata": {},
   "outputs": [
    {
     "name": "stdout",
     "output_type": "stream",
     "text": [
      "0\n",
      "2\n",
      "2\n",
      "4\n",
      "4\n",
      "6\n",
      "6\n",
      "8\n"
     ]
    }
   ],
   "source": [
    "for i in range(0, hor+1):\n",
    "    print((N*i))\n",
    "    print(N*(i+1))\n",
    "    X[(N*i) : N*(i+1) , : ] = Xmodel**i\n",
    "    #X((N*i + 1) : N*(i+1) , : ) = Xmodel.power(i)\n",
    "    #X = vstack([X, X.power(i)])"
   ]
  },
  {
   "cell_type": "code",
   "execution_count": 195,
   "id": "99d0bb86",
   "metadata": {},
   "outputs": [
    {
     "name": "stdout",
     "output_type": "stream",
     "text": [
      "[[1 0]\n",
      " [0 1]]\n",
      "[[0 1]\n",
      " [2 3]]\n",
      "[[ 2  3]\n",
      " [ 6 11]]\n"
     ]
    }
   ],
   "source": [
    "Bheight = N*(hor+1);\n",
    "Bcolwidth = np.shape(B)[1]\n",
    "\n",
    "Bcol = np.zeros((Bheight, Bcolwidth))\n",
    "\n",
    "for i in range(1, hor+1):\n",
    "    Bcol[(N*i) : N*(i+1) , :] = matrix_power(Xmodel,(i-1))@B\n",
    "    print(matrix_power(Xmodel,(i-1)))\n",
    "lshift = sparse.spdiags(np.ones(N*hor) , -N , N*(hor+1) , N*(hor+1))\n",
    "Bwidth = np.size(B,1)*hor\n",
    "Bblkwidth = hor \n",
    "Bx = np.zeros((Bheight , Bwidth))\n",
    "Bx[: , :Bcolwidth] = Bcol\n",
    "for i in range(2, Bblkwidth+1):\n",
    "    Bx[:,(i-1)*Bcolwidth:(i)*Bcolwidth] = x@Bx[:,(i-2)*Bcolwidth:(i-1)*Bcolwidth]"
   ]
  },
  {
   "cell_type": "code",
   "execution_count": 196,
   "id": "7690b692",
   "metadata": {},
   "outputs": [
    {
     "data": {
      "text/plain": [
       "(2, 2)"
      ]
     },
     "execution_count": 196,
     "metadata": {},
     "output_type": "execute_result"
    }
   ],
   "source": [
    "np.shape(B)"
   ]
  },
  {
   "cell_type": "code",
   "execution_count": 198,
   "id": "48018598",
   "metadata": {},
   "outputs": [
    {
     "data": {
      "text/plain": [
       "array([[ 0.,  0.,  0.,  0.,  0.,  0.],\n",
       "       [ 0.,  0.,  0.,  0.,  0.,  0.],\n",
       "       [ 0.,  1.,  0.,  0.,  0.,  0.],\n",
       "       [ 2.,  3.,  0.,  0.,  0.,  0.],\n",
       "       [ 2.,  3.,  0.,  1.,  0.,  0.],\n",
       "       [ 6., 11.,  2.,  3.,  0.,  0.],\n",
       "       [ 6., 11.,  2.,  3.,  0.,  1.],\n",
       "       [22., 39.,  6., 11.,  2.,  3.]])"
      ]
     },
     "execution_count": 198,
     "metadata": {},
     "output_type": "execute_result"
    }
   ],
   "source": [
    "Bx"
   ]
  },
  {
   "cell_type": "code",
   "execution_count": 188,
   "id": "f81ad488",
   "metadata": {},
   "outputs": [],
   "source": [
    "x = sparse.spdiags(np.ones(N*hor) , -N , N*(hor+1) , N*(hor+1))"
   ]
  },
  {
   "cell_type": "code",
   "execution_count": 189,
   "id": "f702d8d9",
   "metadata": {},
   "outputs": [],
   "source": [
    "Bwidth = np.size(B,1)*hor\n",
    "Bblkwidth = hor "
   ]
  },
  {
   "cell_type": "code",
   "execution_count": 190,
   "id": "988101e9",
   "metadata": {},
   "outputs": [],
   "source": [
    "Bx = np.zeros((Bheight , Bwidth))\n",
    "Bx[: , :Bcolwidth] = Bcol"
   ]
  },
  {
   "cell_type": "code",
   "execution_count": 191,
   "id": "529f13b9",
   "metadata": {},
   "outputs": [
    {
     "name": "stdout",
     "output_type": "stream",
     "text": [
      "1 2\n",
      "0 1\n",
      "2 3\n",
      "1 2\n"
     ]
    }
   ],
   "source": [
    "for i in range(2, Bblkwidth+1):\n",
    "    Bx[:,(i-1)*Bcolwidth:(i)*Bcolwidth] = x@Bx[:,(i-2)*Bcolwidth:(i-1)*Bcolwidth]"
   ]
  },
  {
   "cell_type": "code",
   "execution_count": 134,
   "id": "a8a5b6a0",
   "metadata": {},
   "outputs": [],
   "source": [
    "m = np.arange(9).reshape(3,3)"
   ]
  },
  {
   "cell_type": "code",
   "execution_count": 192,
   "id": "a9ba8c3a",
   "metadata": {},
   "outputs": [
    {
     "data": {
      "text/plain": [
       "array([[ 0.,  0.,  0.],\n",
       "       [ 0.,  0.,  0.],\n",
       "       [ 0.,  0.,  0.],\n",
       "       [ 1.,  0.,  0.],\n",
       "       [ 1.,  0.,  0.],\n",
       "       [ 3.,  1.,  0.],\n",
       "       [ 3.,  1.,  0.],\n",
       "       [11.,  3.,  1.]])"
      ]
     },
     "execution_count": 192,
     "metadata": {},
     "output_type": "execute_result"
    }
   ],
   "source": [
    "Bx"
   ]
  },
  {
   "cell_type": "code",
   "execution_count": 136,
   "id": "eae6576d",
   "metadata": {},
   "outputs": [
    {
     "data": {
      "text/plain": [
       "1"
      ]
     },
     "execution_count": 136,
     "metadata": {},
     "output_type": "execute_result"
    }
   ],
   "source": [
    "Bcolwidth"
   ]
  },
  {
   "cell_type": "code",
   "execution_count": 138,
   "id": "94dfdf52",
   "metadata": {},
   "outputs": [
    {
     "data": {
      "text/plain": [
       "array([0, 3, 6])"
      ]
     },
     "execution_count": 138,
     "metadata": {},
     "output_type": "execute_result"
    }
   ],
   "source": []
  },
  {
   "cell_type": "code",
   "execution_count": 139,
   "id": "19970058",
   "metadata": {},
   "outputs": [
    {
     "data": {
      "text/plain": [
       "2"
      ]
     },
     "execution_count": 139,
     "metadata": {},
     "output_type": "execute_result"
    }
   ],
   "source": [
    "N"
   ]
  },
  {
   "cell_type": "code",
   "execution_count": 141,
   "id": "f99f7191",
   "metadata": {},
   "outputs": [
    {
     "data": {
      "text/plain": [
       "12.0"
      ]
     },
     "execution_count": 141,
     "metadata": {},
     "output_type": "execute_result"
    }
   ],
   "source": [
    "np.floor(Bheight * Bwidth / 2)"
   ]
  },
  {
   "cell_type": "code",
   "execution_count": 9,
   "id": "665cd522",
   "metadata": {},
   "outputs": [],
   "source": [
    "pr = np.arange(4).reshape(2,2)"
   ]
  },
  {
   "cell_type": "code",
   "execution_count": 10,
   "id": "dd80cd0f",
   "metadata": {},
   "outputs": [
    {
     "name": "stdout",
     "output_type": "stream",
     "text": [
      "[[0. 1. 0. 0. 0. 0. 0. 0.]\n",
      " [2. 3. 0. 0. 0. 0. 0. 0.]\n",
      " [0. 0. 0. 1. 0. 0. 0. 0.]\n",
      " [0. 0. 2. 3. 0. 0. 0. 0.]\n",
      " [0. 0. 0. 0. 0. 1. 0. 0.]\n",
      " [0. 0. 0. 0. 2. 3. 0. 0.]\n",
      " [0. 0. 0. 0. 0. 0. 0. 1.]\n",
      " [0. 0. 0. 0. 0. 0. 2. 3.]]\n"
     ]
    }
   ],
   "source": [
    "C = np.kron(np.eye(hor+1) , pr)\n",
    "print(C)\n",
    "nproj = np.size(pr , 1 );"
   ]
  },
  {
   "cell_type": "code",
   "execution_count": 15,
   "id": "1c07c7a9",
   "metadata": {},
   "outputs": [
    {
     "data": {
      "text/plain": [
       "2"
      ]
     },
     "execution_count": 15,
     "metadata": {},
     "output_type": "execute_result"
    }
   ],
   "source": [
    "nproj"
   ]
  },
  {
   "cell_type": "code",
   "execution_count": 30,
   "id": "9eb68820",
   "metadata": {},
   "outputs": [],
   "source": [
    "Q = np.kron(np.eye(hor+1) , np.eye(nproj) * 0.1) #error magnitude penalty (running cost) (default 0.1)\n",
    "endr, endc = Q.shape\n",
    "Q[endr-nproj: , endc-nproj:] = np.eye(nproj) * 100 # (terminal cost) (default 100)"
   ]
  },
  {
   "cell_type": "code",
   "execution_count": 31,
   "id": "cf1b7631",
   "metadata": {},
   "outputs": [
    {
     "name": "stdout",
     "output_type": "stream",
     "text": [
      "[[  0.1   0.    0.    0.    0.    0.    0.    0. ]\n",
      " [  0.    0.1   0.    0.    0.    0.    0.    0. ]\n",
      " [  0.    0.    0.1   0.    0.    0.    0.    0. ]\n",
      " [  0.    0.    0.    0.1   0.    0.    0.    0. ]\n",
      " [  0.    0.    0.    0.    0.1   0.    0.    0. ]\n",
      " [  0.    0.    0.    0.    0.    0.1   0.    0. ]\n",
      " [  0.    0.    0.    0.    0.    0.  100.    0. ]\n",
      " [  0.    0.    0.    0.    0.    0.    0.  100. ]]\n"
     ]
    }
   ],
   "source": [
    "print(Q)"
   ]
  },
  {
   "cell_type": "code",
   "execution_count": 37,
   "id": "78e8f4a7",
   "metadata": {},
   "outputs": [],
   "source": [
    "R = np.kron(np.eye(hor) , np.eye(2) * 0.01 )"
   ]
  },
  {
   "cell_type": "code",
   "execution_count": 38,
   "id": "6da6d4ad",
   "metadata": {},
   "outputs": [
    {
     "data": {
      "text/plain": [
       "(6, 6)"
      ]
     },
     "execution_count": 38,
     "metadata": {},
     "output_type": "execute_result"
    }
   ],
   "source": [
    "R.shape"
   ]
  },
  {
   "cell_type": "code",
   "execution_count": 39,
   "id": "6feb5e56",
   "metadata": {},
   "outputs": [
    {
     "data": {
      "text/plain": [
       "(8, 8)"
      ]
     },
     "execution_count": 39,
     "metadata": {},
     "output_type": "execute_result"
    }
   ],
   "source": [
    "Q.shape"
   ]
  },
  {
   "cell_type": "code",
   "execution_count": 16,
   "id": "5892aedf",
   "metadata": {},
   "outputs": [],
   "source": [
    "m =1\n",
    "Np = 2\n",
    "num = 2*m"
   ]
  },
  {
   "cell_type": "code",
   "execution_count": 17,
   "id": "85337dd1",
   "metadata": {},
   "outputs": [],
   "source": [
    "Fbounds_i = np.vstack((-np.eye(m), np.eye(m)))\n",
    "Fbounds = np.zeros((num*(Np+1) , np.size(B,1)))\n",
    "Fbounds[:num*Np , :Np*m] = np.kron(np.eye(Np), Fbounds_i)  "
   ]
  },
  {
   "cell_type": "code",
   "execution_count": 23,
   "id": "32470850",
   "metadata": {},
   "outputs": [],
   "source": [
    "Fbounds = np.zeros((num*(Np+1) , np.size(B,1)))"
   ]
  },
  {
   "cell_type": "code",
   "execution_count": 24,
   "id": "a49188d4",
   "metadata": {},
   "outputs": [
    {
     "data": {
      "text/plain": [
       "array([[0., 0.],\n",
       "       [0., 0.],\n",
       "       [0., 0.],\n",
       "       [0., 0.],\n",
       "       [0., 0.],\n",
       "       [0., 0.]])"
      ]
     },
     "execution_count": 24,
     "metadata": {},
     "output_type": "execute_result"
    }
   ],
   "source": [
    "Fbounds"
   ]
  },
  {
   "cell_type": "code",
   "execution_count": 25,
   "id": "818498f5",
   "metadata": {},
   "outputs": [],
   "source": [
    "Fbounds[:num*Np , :Np*m] = np.kron(np.eye(Np), Fbounds_i)  "
   ]
  },
  {
   "cell_type": "code",
   "execution_count": 35,
   "id": "fe8a915d",
   "metadata": {},
   "outputs": [
    {
     "name": "stdout",
     "output_type": "stream",
     "text": [
      "True\n",
      "True\n",
      "False\n",
      "False\n",
      "True\n",
      "True\n"
     ]
    }
   ],
   "source": [
    "for i in Fbounds:\n",
    "    print(i[1] == 0.0)\n",
    "F = []"
   ]
  },
  {
   "cell_type": "code",
   "execution_count": 40,
   "id": "d71796ec",
   "metadata": {},
   "outputs": [],
   "source": [
    "Ebounds = np.zeros((num*(Np+1) , np.size(B,0)))"
   ]
  },
  {
   "cell_type": "code",
   "execution_count": 41,
   "id": "808cfb4d",
   "metadata": {},
   "outputs": [
    {
     "data": {
      "text/plain": [
       "array([[0., 0.],\n",
       "       [0., 0.],\n",
       "       [0., 0.],\n",
       "       [0., 0.],\n",
       "       [0., 0.],\n",
       "       [0., 0.]])"
      ]
     },
     "execution_count": 41,
     "metadata": {},
     "output_type": "execute_result"
    }
   ],
   "source": [
    "Ebounds"
   ]
  },
  {
   "cell_type": "code",
   "execution_count": 59,
   "id": "2a5623cf",
   "metadata": {},
   "outputs": [],
   "source": [
    "# F: input_slopeConst\n",
    "Fslope_i = np.eye(m)\n",
    "Fslope_neg = np.hstack((np.kron(np.eye(Np-1) , -Fslope_i) , np.zeros((m*(Np-1) , m))))\n",
    "Fslope_pos = np.hstack((np.zeros((m*(Np-1), m)) , np.kron(np.eye(Np-1) , Fslope_i)))\n",
    "Fslope_top = Fslope_neg + Fslope_pos\n",
    "Fslope = np.vstack((Fslope_top,-Fslope_top))"
   ]
  },
  {
   "cell_type": "code",
   "execution_count": 73,
   "id": "8df60529",
   "metadata": {},
   "outputs": [],
   "source": [
    "Fslope_neg = np.hstack((np.kron(np.eye(Np-1) , -Fslope_i) , np.zeros((m*(Np-1) , m))))"
   ]
  },
  {
   "cell_type": "code",
   "execution_count": 77,
   "id": "ddd0452f",
   "metadata": {},
   "outputs": [],
   "source": [
    "Fslope_pos = np.hstack((np.zeros((m*(Np-1), m)) , np.kron(np.eye(Np-1) , Fslope_i)))"
   ]
  },
  {
   "cell_type": "code",
   "execution_count": 80,
   "id": "214e0f3e",
   "metadata": {},
   "outputs": [],
   "source": [
    "Fslope_top = Fslope_neg + Fslope_pos;"
   ]
  },
  {
   "cell_type": "code",
   "execution_count": 82,
   "id": "bad56bec",
   "metadata": {},
   "outputs": [],
   "source": [
    "Fslope = np.vstack((Fslope_top,-Fslope_top))"
   ]
  },
  {
   "cell_type": "code",
   "execution_count": 83,
   "id": "fb90d29d",
   "metadata": {},
   "outputs": [
    {
     "data": {
      "text/plain": [
       "array([[-1.,  1.],\n",
       "       [ 1., -1.]])"
      ]
     },
     "execution_count": 83,
     "metadata": {},
     "output_type": "execute_result"
    }
   ],
   "source": [
    "Fslope"
   ]
  },
  {
   "cell_type": "code",
   "execution_count": 84,
   "id": "02a12b90",
   "metadata": {},
   "outputs": [
    {
     "data": {
      "text/plain": [
       "(2, 2)"
      ]
     },
     "execution_count": 84,
     "metadata": {},
     "output_type": "execute_result"
    }
   ],
   "source": [
    "Fslope.shape"
   ]
  },
  {
   "cell_type": "code",
   "execution_count": 54,
   "id": "15ca81d7",
   "metadata": {},
   "outputs": [
    {
     "name": "stdout",
     "output_type": "stream",
     "text": [
      "(1, 2)\n"
     ]
    }
   ],
   "source": [
    "\n",
    "Fslope_pos = [ sparse(m*(Np-1) , m) , kron(speye(Np-1) , Fslope_i)]\n",
    "Fslope_top = Fslope_neg + Fslope_pos;\n",
    "Fslope = [ Fslope_top ; -Fslope_top];\n",
    "F = [ F ; Fslope ];     # append matrix\n"
   ]
  },
  {
   "cell_type": "code",
   "execution_count": 87,
   "id": "a778da76",
   "metadata": {},
   "outputs": [],
   "source": [
    "\n",
    "# E: input_slopeConst (just zeros)\n",
    "E = np.zeros((2*m*(Np-1), np.size(B,0))) \n",
    "\n"
   ]
  },
  {
   "cell_type": "code",
   "execution_count": 99,
   "id": "71b6f153",
   "metadata": {},
   "outputs": [],
   "source": [
    "n = 2\n",
    "num = 2*n"
   ]
  },
  {
   "cell_type": "code",
   "execution_count": 100,
   "id": "afccafea",
   "metadata": {},
   "outputs": [],
   "source": [
    "# E: state_bounds\n",
    "Esbounds_i = np.vstack((-np.eye(n),np.eye(n)))    # diagonal element of E, for bounding low dim. states (first n elements of lifted state)"
   ]
  },
  {
   "cell_type": "code",
   "execution_count": 101,
   "id": "ed597e9e",
   "metadata": {},
   "outputs": [
    {
     "data": {
      "text/plain": [
       "array([[-1., -0.],\n",
       "       [-0., -1.],\n",
       "       [ 1.,  0.],\n",
       "       [ 0.,  1.]])"
      ]
     },
     "execution_count": 101,
     "metadata": {},
     "output_type": "execute_result"
    }
   ],
   "source": [
    "Esbounds_i"
   ]
  },
  {
   "cell_type": "code",
   "execution_count": 102,
   "id": "bd817851",
   "metadata": {},
   "outputs": [],
   "source": [
    "Esbounds = np.zeros((num*(Np+1) , np.size(B,0)));  # no constraints, all zeros\n",
    "Esbounds[:num*(Np+1), :(Np+1)*n] = np.kron(np.eye(Np+1), Esbounds_i)    # fill in nonzeros"
   ]
  },
  {
   "cell_type": "code",
   "execution_count": 103,
   "id": "33c5f2b4",
   "metadata": {},
   "outputs": [
    {
     "data": {
      "text/plain": [
       "array([[0., 0.],\n",
       "       [0., 0.],\n",
       "       [0., 0.],\n",
       "       [0., 0.],\n",
       "       [0., 0.],\n",
       "       [0., 0.],\n",
       "       [0., 0.],\n",
       "       [0., 0.],\n",
       "       [0., 0.],\n",
       "       [0., 0.],\n",
       "       [0., 0.],\n",
       "       [0., 0.]])"
      ]
     },
     "execution_count": 103,
     "metadata": {},
     "output_type": "execute_result"
    }
   ],
   "source": [
    "Esbounds"
   ]
  },
  {
   "cell_type": "code",
   "execution_count": 107,
   "id": "7a219070",
   "metadata": {},
   "outputs": [],
   "source": [
    "Fsbounds = np.zeros((np.size(Esbounds, 0) , np.size(cost.B, 1)))"
   ]
  },
  {
   "cell_type": "code",
   "execution_count": 108,
   "id": "ddb4d978",
   "metadata": {},
   "outputs": [
    {
     "data": {
      "text/plain": [
       "array([[0., 0.],\n",
       "       [0., 0.],\n",
       "       [0., 0.],\n",
       "       [0., 0.],\n",
       "       [0., 0.],\n",
       "       [0., 0.],\n",
       "       [0., 0.],\n",
       "       [0., 0.],\n",
       "       [0., 0.],\n",
       "       [0., 0.],\n",
       "       [0., 0.],\n",
       "       [0., 0.]])"
      ]
     },
     "execution_count": 108,
     "metadata": {},
     "output_type": "execute_result"
    }
   ],
   "source": [
    "Fsbounds"
   ]
  },
  {
   "cell_type": "code",
   "execution_count": null,
   "id": "b04d8b1c",
   "metadata": {},
   "outputs": [],
   "source": [
    "\n",
    "c = [ c ; csbounds ]    #append vector"
   ]
  },
  {
   "cell_type": "code",
   "execution_count": 110,
   "id": "067952fa",
   "metadata": {},
   "outputs": [
    {
     "data": {
      "text/plain": [
       "array([[1.],\n",
       "       [1.],\n",
       "       [1.]])"
      ]
     },
     "execution_count": 110,
     "metadata": {},
     "output_type": "execute_result"
    }
   ],
   "source": [
    "np.ones((Np+1, 1))"
   ]
  },
  {
   "cell_type": "code",
   "execution_count": 111,
   "id": "8fd90d93",
   "metadata": {},
   "outputs": [],
   "source": [
    "a1 = np.array([[0., 0.],\n",
    "               [0., 0.]])\n",
    "a2 = np.array([[1, 1],\n",
    "               [1, 1]])\n",
    "a3 = np.array([[2, 2],\n",
    "               [2, 2]])"
   ]
  },
  {
   "cell_type": "code",
   "execution_count": 112,
   "id": "3a42c091",
   "metadata": {},
   "outputs": [],
   "source": [
    "xx=[a1,a2,a3]"
   ]
  },
  {
   "cell_type": "code",
   "execution_count": 113,
   "id": "98acae87",
   "metadata": {},
   "outputs": [
    {
     "data": {
      "text/plain": [
       "[array([[0., 0.],\n",
       "        [0., 0.]]),\n",
       " array([[1, 1],\n",
       "        [1, 1]]),\n",
       " array([[2, 2],\n",
       "        [2, 2]])]"
      ]
     },
     "execution_count": 113,
     "metadata": {},
     "output_type": "execute_result"
    }
   ],
   "source": [
    "xx"
   ]
  },
  {
   "cell_type": "code",
   "execution_count": 116,
   "id": "8542d19f",
   "metadata": {},
   "outputs": [
    {
     "data": {
      "text/plain": [
       "array([[0., 0.],\n",
       "       [0., 0.],\n",
       "       [1., 1.],\n",
       "       [1., 1.],\n",
       "       [2., 2.],\n",
       "       [2., 2.]])"
      ]
     },
     "execution_count": 116,
     "metadata": {},
     "output_type": "execute_result"
    }
   ],
   "source": [
    "np.vstack(xx)"
   ]
  }
 ],
 "metadata": {
  "kernelspec": {
   "display_name": "Python 3 (ipykernel)",
   "language": "python",
   "name": "python3"
  },
  "language_info": {
   "codemirror_mode": {
    "name": "ipython",
    "version": 3
   },
   "file_extension": ".py",
   "mimetype": "text/x-python",
   "name": "python",
   "nbconvert_exporter": "python",
   "pygments_lexer": "ipython3",
   "version": "3.9.5"
  }
 },
 "nbformat": 4,
 "nbformat_minor": 5
}
